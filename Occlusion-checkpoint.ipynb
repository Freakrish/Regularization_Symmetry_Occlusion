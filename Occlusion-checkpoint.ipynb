{
 "cells": [
  {
   "cell_type": "code",
   "execution_count": 46,
   "id": "622f85e9",
   "metadata": {},
   "outputs": [],
   "source": [
    "import csv\n",
    "def read_csv(csv_path):    \n",
    "    data = np.genfromtxt(csv_path, delimiter=',')\n",
    "    paths = []\n",
    "    for i in np.unique(data[:, 0]):        \n",
    "        path = data[data[:, 0] == i][:, 1:]\n",
    "        paths.append(path)    \n",
    "    return paths\n"
   ]
  },
  {
   "cell_type": "code",
   "execution_count": 47,
   "id": "1560887b",
   "metadata": {},
   "outputs": [],
   "source": [
    "from shapely.geometry import LineString, Polygon, Point\n",
    "# import geopandas as gpd\n",
    "import numpy as np\n",
    "import math\n",
    "def is_circle(points):\n",
    "    if len(points) < 3:        \n",
    "        return False\n",
    "    centroid = np.mean(points, axis=0)\n",
    "    distances = [np.linalg.norm(point - centroid) for point in points]    \n",
    "    return np.std(distances) < 0.01\n",
    "def is_polygon(points, sides):\n",
    "    if len(points) != sides:        \n",
    "        return False\n",
    "    centroid = np.mean(points, axis=0)    \n",
    "    distances = [np.linalg.norm(point - centroid) for point in points]\n",
    "    return np.std(distances) < 0.01 and len(points) == sides\n",
    "def is_rectangle(points):    \n",
    "    if len(points) != 4:\n",
    "        return False   \n",
    "    lines = [LineString([points[i], points[(i+1)%4]]) for i in range(4)]\n",
    "    angles = [line1.angle(line2) for line1, line2 in zip(lines, lines[1:] + lines[:1])]    \n",
    "    return all(math.isclose(angle, math.pi/2, abs_tol=1e-2) for angle in angles)\n",
    "def regularize_curve(path):\n",
    "    if is_circle(path):        \n",
    "        centroid = np.mean(path, axis=0)\n",
    "        radius = np.linalg.norm(path[0] - centroid)        \n",
    "        return Point(centroid).buffer(radius)\n",
    "    elif is_rectangle(path):        \n",
    "        return Polygon(path)\n",
    "    elif is_polygon(path, 3):  # Triangle        \n",
    "        return Polygon(path)\n",
    "    elif is_polygon(path, 5):  # Pentagon        \n",
    "        return Polygon(path)\n",
    "    else:        \n",
    "        return LineString(path)\n"
   ]
  },
  {
   "cell_type": "code",
   "execution_count": 48,
   "id": "8b3752b9",
   "metadata": {},
   "outputs": [],
   "source": [
    "import numpy as np\n",
    "from shapely.geometry import Polygon, LineString\n",
    "\n",
    "def detect_symmetry(shape):\n",
    "    def reflect(points, axis):\n",
    "        if axis == 'x':\n",
    "      \n",
    "            reflection_matrix = np.array([1, -1] + [1] * (points.shape[1] - 2))\n",
    "            return points * reflection_matrix[np.newaxis, :]\n",
    "        elif axis == 'y':\n",
    "    \n",
    "            reflection_matrix = np.array([-1, 1] + [1] * (points.shape[1] - 2))\n",
    "            return points * reflection_matrix[np.newaxis, :]\n",
    "        else:\n",
    "            raise ValueError(\"Invalid axis. Use 'x' or 'y'.\")\n",
    "  \n",
    "    if isinstance(shape, Polygon):\n",
    "        original_points = np.array(shape.exterior.coords)\n",
    "    elif isinstance(shape, LineString):\n",
    "        original_points = np.array(shape.coords)\n",
    "    else:\n",
    "        raise TypeError(\"Shape must be a Polygon or LineString.\")\n",
    "\n",
    "    reflected_x = reflect(original_points, 'x')\n",
    "    reflected_y = reflect(original_points, 'y')\n",
    "\n",
    "    \n",
    "    if np.allclose(original_points, reflected_x):\n",
    "        return True, 'x'\n",
    "    elif np.allclose(original_points, reflected_y):\n",
    "        return True, 'y'\n",
    "    else:\n",
    "        return False, None\n",
    "\n"
   ]
  },
  {
   "cell_type": "code",
   "execution_count": 49,
   "id": "617999df",
   "metadata": {},
   "outputs": [],
   "source": [
    "from shapely.geometry import Polygon, LineString, MultiLineString, MultiPolygon\n",
    "from shapely.ops import unary_union\n",
    "\n",
    "def handle_occlusion(paths):\n",
    "    shapes = [Polygon(path) if LineString(path).is_ring else LineString(path) for path in paths]    \n",
    "\n",
    "    merged_shapes = unary_union(shapes)\n",
    "    \n",
    "    if isinstance(merged_shapes, (Polygon, LineString)):\n",
    "        return [merged_shapes]\n",
    "  \n",
    "    elif isinstance(merged_shapes, (MultiPolygon, MultiLineString)):\n",
    "        return list(merged_shapes.geoms)\n",
    "    \n",
    "   \n",
    "    else:\n",
    "        return [merged_shapes]\n",
    "\n",
    "\n"
   ]
  },
  {
   "cell_type": "code",
   "execution_count": 50,
   "id": "45a15b3e",
   "metadata": {},
   "outputs": [],
   "source": [
    "def complete_curve(path):    \n",
    "    if LineString(path).is_ring:\n",
    "        return Polygon(path)    \n",
    "    else:\n",
    "        line = LineString(path)        \n",
    "        points = np.array(line.coords)\n",
    "    return LineString(np.vstack([points, points[0]]))  \n",
    "\n"
   ]
  },
  {
   "cell_type": "code",
   "execution_count": 51,
   "id": "58c23b95",
   "metadata": {},
   "outputs": [],
   "source": [
    "def write_csv(output_path, shapes):    \n",
    "    with open(output_path, 'w', newline='') as csvfile:\n",
    "        writer = csv.writer(csvfile)        \n",
    "        for i, shape in enumerate(shapes):\n",
    "            if isinstance(shape, Polygon):                \n",
    "                points = np.array(shape.exterior.coords)\n",
    "            else:                \n",
    "                points = np.array(shape.coords)\n",
    "            for j, point in enumerate(points):                \n",
    "                writer.writerow([i, j, point[0], point[1]])\n"
   ]
  },
  {
   "cell_type": "code",
   "execution_count": 52,
   "id": "d9dd1faa",
   "metadata": {},
   "outputs": [
    {
     "ename": "PermissionError",
     "evalue": "[Errno 13] Permission denied: 'output.csv'",
     "output_type": "error",
     "traceback": [
      "\u001b[1;31m---------------------------------------------------------------------------\u001b[0m",
      "\u001b[1;31mPermissionError\u001b[0m                           Traceback (most recent call last)",
      "Cell \u001b[1;32mIn[52], line 18\u001b[0m\n\u001b[0;32m     15\u001b[0m input_csv \u001b[38;5;241m=\u001b[39m \u001b[38;5;124m'\u001b[39m\u001b[38;5;124mfrag0.csv\u001b[39m\u001b[38;5;124m'\u001b[39m  \n\u001b[0;32m     17\u001b[0m output_csv \u001b[38;5;241m=\u001b[39m \u001b[38;5;124m'\u001b[39m\u001b[38;5;124moutput.csv\u001b[39m\u001b[38;5;124m'\u001b[39m \n\u001b[1;32m---> 18\u001b[0m process_curves(input_csv, output_csv)\n",
      "Cell \u001b[1;32mIn[52], line 12\u001b[0m, in \u001b[0;36mprocess_curves\u001b[1;34m(input_csv, output_csv)\u001b[0m\n\u001b[0;32m      8\u001b[0m symmetric_shapes \u001b[38;5;241m=\u001b[39m [detect_symmetry(shape) \u001b[38;5;28;01mfor\u001b[39;00m shape \u001b[38;5;129;01min\u001b[39;00m occlusion_handled_shapes]\n\u001b[0;32m     10\u001b[0m completed_curves \u001b[38;5;241m=\u001b[39m [complete_curve(path) \u001b[38;5;28;01mfor\u001b[39;00m path \u001b[38;5;129;01min\u001b[39;00m occlusion_handled_shapes]\n\u001b[1;32m---> 12\u001b[0m write_csv(output_csv, completed_curves)\n",
      "Cell \u001b[1;32mIn[51], line 2\u001b[0m, in \u001b[0;36mwrite_csv\u001b[1;34m(output_path, shapes)\u001b[0m\n\u001b[0;32m      1\u001b[0m \u001b[38;5;28;01mdef\u001b[39;00m \u001b[38;5;21mwrite_csv\u001b[39m(output_path, shapes):    \n\u001b[1;32m----> 2\u001b[0m     \u001b[38;5;28;01mwith\u001b[39;00m \u001b[38;5;28mopen\u001b[39m(output_path, \u001b[38;5;124m'\u001b[39m\u001b[38;5;124mw\u001b[39m\u001b[38;5;124m'\u001b[39m, newline\u001b[38;5;241m=\u001b[39m\u001b[38;5;124m'\u001b[39m\u001b[38;5;124m'\u001b[39m) \u001b[38;5;28;01mas\u001b[39;00m csvfile:\n\u001b[0;32m      3\u001b[0m         writer \u001b[38;5;241m=\u001b[39m csv\u001b[38;5;241m.\u001b[39mwriter(csvfile)        \n\u001b[0;32m      4\u001b[0m         \u001b[38;5;28;01mfor\u001b[39;00m i, shape \u001b[38;5;129;01min\u001b[39;00m \u001b[38;5;28menumerate\u001b[39m(shapes):\n",
      "File \u001b[1;32mC:\\ProgramData\\anaconda3\\Lib\\site-packages\\IPython\\core\\interactiveshell.py:286\u001b[0m, in \u001b[0;36m_modified_open\u001b[1;34m(file, *args, **kwargs)\u001b[0m\n\u001b[0;32m    279\u001b[0m \u001b[38;5;28;01mif\u001b[39;00m file \u001b[38;5;129;01min\u001b[39;00m {\u001b[38;5;241m0\u001b[39m, \u001b[38;5;241m1\u001b[39m, \u001b[38;5;241m2\u001b[39m}:\n\u001b[0;32m    280\u001b[0m     \u001b[38;5;28;01mraise\u001b[39;00m \u001b[38;5;167;01mValueError\u001b[39;00m(\n\u001b[0;32m    281\u001b[0m         \u001b[38;5;124mf\u001b[39m\u001b[38;5;124m\"\u001b[39m\u001b[38;5;124mIPython won\u001b[39m\u001b[38;5;124m'\u001b[39m\u001b[38;5;124mt let you open fd=\u001b[39m\u001b[38;5;132;01m{\u001b[39;00mfile\u001b[38;5;132;01m}\u001b[39;00m\u001b[38;5;124m by default \u001b[39m\u001b[38;5;124m\"\u001b[39m\n\u001b[0;32m    282\u001b[0m         \u001b[38;5;124m\"\u001b[39m\u001b[38;5;124mas it is likely to crash IPython. If you know what you are doing, \u001b[39m\u001b[38;5;124m\"\u001b[39m\n\u001b[0;32m    283\u001b[0m         \u001b[38;5;124m\"\u001b[39m\u001b[38;5;124myou can use builtins\u001b[39m\u001b[38;5;124m'\u001b[39m\u001b[38;5;124m open.\u001b[39m\u001b[38;5;124m\"\u001b[39m\n\u001b[0;32m    284\u001b[0m     )\n\u001b[1;32m--> 286\u001b[0m \u001b[38;5;28;01mreturn\u001b[39;00m io_open(file, \u001b[38;5;241m*\u001b[39margs, \u001b[38;5;241m*\u001b[39m\u001b[38;5;241m*\u001b[39mkwargs)\n",
      "\u001b[1;31mPermissionError\u001b[0m: [Errno 13] Permission denied: 'output.csv'"
     ]
    }
   ],
   "source": [
    "def process_curves(input_csv, output_csv):\n",
    "    paths = read_csv(input_csv)\n",
    "  \n",
    "    regularized_shapes = [regularize_curve(path) for path in paths]\n",
    "\n",
    "    occlusion_handled_shapes = handle_occlusion(regularized_shapes)\n",
    "\n",
    "    symmetric_shapes = [detect_symmetry(shape) for shape in occlusion_handled_shapes]\n",
    "  \n",
    "    completed_curves = [complete_curve(path) for path in occlusion_handled_shapes]\n",
    "    \n",
    "    write_csv(output_csv, completed_curves)\n",
    "\n",
    "\n",
    "input_csv = 'frag0.csv'  \n",
    "\n",
    "output_csv = 'output.csv' \n",
    "process_curves(input_csv, output_csv)"
   ]
  },
  {
   "cell_type": "code",
   "execution_count": null,
   "id": "8213f436",
   "metadata": {},
   "outputs": [],
   "source": []
  },
  {
   "cell_type": "code",
   "execution_count": null,
   "id": "9b879099",
   "metadata": {},
   "outputs": [],
   "source": []
  }
 ],
 "metadata": {
  "kernelspec": {
   "display_name": "Python 3 (ipykernel)",
   "language": "python",
   "name": "python3"
  },
  "language_info": {
   "codemirror_mode": {
    "name": "ipython",
    "version": 3
   },
   "file_extension": ".py",
   "mimetype": "text/x-python",
   "name": "python",
   "nbconvert_exporter": "python",
   "pygments_lexer": "ipython3",
   "version": "3.11.5"
  }
 },
 "nbformat": 4,
 "nbformat_minor": 5
}
